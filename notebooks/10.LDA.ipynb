{
  "nbformat": 4,
  "nbformat_minor": 0,
  "metadata": {
    "colab": {
      "name": "10.LDA.ipynb",
      "provenance": [],
      "collapsed_sections": [],
      "toc_visible": true,
      "include_colab_link": true
    },
    "kernelspec": {
      "display_name": "Python 3",
      "name": "python3"
    }
  },
  "cells": [
    {
      "cell_type": "markdown",
      "metadata": {
        "id": "view-in-github",
        "colab_type": "text"
      },
      "source": [
        "<a href=\"https://colab.research.google.com/github/changsin/MIU_ML/blob/main/notebooks/10.LDA.ipynb\" target=\"_parent\"><img src=\"https://colab.research.google.com/assets/colab-badge.svg\" alt=\"Open In Colab\"/></a>"
      ]
    },
    {
      "cell_type": "markdown",
      "metadata": {
        "id": "HclJutxS2bYj"
      },
      "source": [
        "# LDA (Linear Discriminant Analysis)\n",
        "\n",
        "LDA (Linear Discriminant Analysis) is a supervised learning algorithm for classification tasks. The goal of LDA is to reduce datasets into a lower-dimensional space with good class separability. For this reason, LDA is often compared and confused with PCA (Principal Component Analysis).\n",
        "\n"
      ]
    },
    {
      "cell_type": "markdown",
      "metadata": {
        "id": "xCj6cpNnE29F"
      },
      "source": [
        "\n",
        "## Similarities\n",
        "- Both reduce dimensionality\n",
        "- Both try to find new dimensions in the order of importance:\n",
        "    - PCA: in the order of most variation\n",
        "    - LDA: in the order of most variation between categories\n",
        "\n",
        "## Differences\n",
        "\n",
        "| Category | PCA | LDA  |\n",
        "| --- | --- | --- |\n",
        "| Type | unsupervised | supervised |\n",
        "| Classes | Agnostic of underlying classes | Uses classes differences in separating features |\n",
        "| Tries to find | maximum variance | maximum class separability |\n"
      ]
    },
    {
      "cell_type": "markdown",
      "metadata": {
        "id": "EySSq41-Ewqd"
      },
      "source": [
        "## Math\n",
        "\n",
        "### 1. Within-class scatter matrix\n",
        "\n",
        "$ S_B = \\sum\\limits_c S_c $\n",
        "\n",
        "where\n",
        "\n",
        "$ S_c = \\sum\\limits_{i \\in c} (x_i - \\bar x_c)\\cdot(x_i - \\bar x_c)^T $\n",
        "\n",
        "\n",
        "### 2. Between-class scatter matrix\n",
        "$ S_B = \\sum\\limits_{c} n_c \\cdot (\\bar x_c - \\bar x)\\cdot(\\bar x_c - \\bar x)^T $\n",
        "\n",
        "### 3. Eigenvalues and Eigenvectors\n",
        "$ S_W^{-1} S_B $\n"
      ]
    },
    {
      "cell_type": "markdown",
      "metadata": {
        "id": "fgtKAJzHLzB1"
      },
      "source": [
        "## Algorithm\n",
        "[source](https://www.mygreatlearning.com/blog/linear-discriminant-analysis-or-lda/)\n",
        "1. Compute mean vectors of each class of dependent variable\n",
        "2. Compute within class ($ S_W $) and between-class ($ S_B $) scatter matrices\n",
        "3. Compute eigenvalues and eigenvector for $ S_W $ and $ S_B $ - $ S_W^{-1} S_B $\n",
        "4. Sort the eigenvalues in descending order\n",
        "5. Select the first k eigenvalues that will be the new k dimensions (linear discriminants)\n",
        "6. Create a new matrix containing eigenvectors that map to the k eigenvalues\n",
        "7. Transform the orignal n dimensional data points into k dimensions (= projections with a dot product)\n",
        "\n",
        "\n"
      ]
    },
    {
      "cell_type": "markdown",
      "metadata": {
        "id": "enIpQvMaT9qp"
      },
      "source": [
        "## Code: from scratch"
      ]
    },
    {
      "cell_type": "code",
      "metadata": {
        "id": "vgHnB4enDA4o"
      },
      "source": [
        "# LDA (Linear Discriminant Analysis) In Python - ML From Scratch 14 - Python Tutorial\n",
        "# https://youtu.be/9IDXYHhAfGA\n",
        "# https://github.com/python-engineer/MLfromscratch/blob/master/mlfromscratch/lda.py\n",
        "\n",
        "import numpy as np\n",
        "\n",
        "\n",
        "class LDA:\n",
        "    def __init__(self, n_components):\n",
        "        self.n_components = n_components\n",
        "        self.linear_discriminants = None  # store eigenvectors we compute\n",
        "\n",
        "    def fit(self, X, y):\n",
        "        # index 0 is the number of samples\n",
        "        # index 1 is the number of features\n",
        "        n_features = X.shape[1]\n",
        "        class_labels = np.unique(y)\n",
        "\n",
        "        # Within class scatter matrix:\n",
        "        # SW = sum((X_c - mean_X_c)^2 )\n",
        "\n",
        "        # Between class scatter:\n",
        "        # SB = sum( n_c * (mean_X_c - mean_overall)^2 )\n",
        "\n",
        "        # 1. Compute the means of each class\n",
        "        mean_overall = np.mean(X, axis=0)\n",
        "        print(f\"mean_overall: {mean_overall}\")\n",
        "\n",
        "        SW = np.zeros((n_features, n_features))\n",
        "        SB = np.zeros((n_features, n_features))\n",
        "        for c in class_labels:\n",
        "            X_c = X[y == c] # get the samples of this label\n",
        "            mean_c = np.mean(X_c, axis=0)\n",
        "            # (4, n_c) * (n_c, 4) = (4,4) -> transpose\n",
        "            SW += (X_c - mean_c).T.dot((X_c - mean_c))\n",
        "\n",
        "            # (4, 1) * (1, 4) = (4,4) -> reshape\n",
        "            n_c = X_c.shape[0]\n",
        "            mean_diff = (mean_c - mean_overall).reshape(n_features, 1)\n",
        "            SB += n_c * (mean_diff).dot(mean_diff.T)\n",
        "\n",
        "        # 2. Compute SW and SB\n",
        "        print(f\"SW: {SW}\")\n",
        "        print(f\"SB: {SB}\")\n",
        "\n",
        "        # 3. Get eigenvalues and eigenvectors of SW^-1 * SB\n",
        "        # Determine SW^-1 * SB\n",
        "        A = np.linalg.inv(SW).dot(SB)\n",
        "        # Get eigenvalues and eigenvectors of SW^-1 * SB\n",
        "        print(f\"SW^-1 * SB: {A}\")\n",
        "        eigenvalues, eigenvectors = np.linalg.eig(A)\n",
        "        print(f\"eigenvalues: {eigenvalues}, eigenvectors: {eigenvectors}\")\n",
        "        # -> eigenvector v = [:,i] column vector, transpose for easier calculations\n",
        "        # sort eigenvalues high to low\n",
        "        eigenvectors = eigenvectors.T\n",
        "\n",
        "        # 4. Sort the eigenvalues\n",
        "        idxs = np.argsort(abs(eigenvalues))[::-1]\n",
        "        eigenvalues = eigenvalues[idxs]\n",
        "        eigenvectors = eigenvectors[idxs]\n",
        "        print(f\"sorted eigenvalues: {eigenvalues} sorted eigenvectors: {eigenvectors}\")\n",
        "        # store first n eigenvectors\n",
        "        self.linear_discriminants = eigenvectors[0 : self.n_components]\n",
        "\n",
        "    # get the new features we project\n",
        "    def transform(self, X):\n",
        "        # project data\n",
        "        return np.dot(X, self.linear_discriminants.T)"
      ],
      "execution_count": null,
      "outputs": []
    },
    {
      "cell_type": "markdown",
      "metadata": {
        "id": "YAf2Yysi2nm1"
      },
      "source": [
        "### Sample data: hand-made data points"
      ]
    },
    {
      "cell_type": "code",
      "metadata": {
        "id": "Oe5EMvOd1du9"
      },
      "source": [
        "import numpy as np\n",
        "import matplotlib.pyplot as plt\n",
        "\n",
        "X = np.array([\n",
        "      [6., 1.],\n",
        "      [7., 3.],\n",
        "      [8., 2.],    \n",
        "      [9., 0.],\n",
        "      [8., 4.],\n",
        "      [8., 6.],\n",
        "      [9., 2.],    \n",
        "      [9., 5.]\n",
        "    ])\n",
        "y = np.array([0, 0, 0, 0, 1, 1, 1, 1])"
      ],
      "execution_count": null,
      "outputs": []
    },
    {
      "cell_type": "code",
      "metadata": {
        "id": "eFVBF--K2SbM",
        "outputId": "77a3c05f-19d7-499b-ea48-63b1194c4595",
        "colab": {
          "base_uri": "https://localhost:8080/",
          "height": 282
        }
      },
      "source": [
        "import numpy as np\n",
        "import matplotlib.pyplot as plt\n",
        "\n",
        "def plot_data(X, y):\n",
        "  positives = X[y == 1]\n",
        "  negatives = X[y == 0]\n",
        "\n",
        "  fig, ax = plt.subplots()\n",
        "  ax.plot(positives[:, 0], positives[:, 1], marker='o', linestyle='', ms=12, label='+')\n",
        "  ax.plot(negatives[:, 0], negatives[:, 1], marker='o', linestyle='', ms=12, label='-')\n",
        "  return ax\n",
        "\n",
        "# plt.scatter(X[:, 0], X[:, 1])\n",
        "\n",
        "ax = plot_data(X, y)\n",
        "x_line = np.linspace(0, 10, 100)\n",
        "y_line = -2.1*x_line + 20\n",
        "\n",
        "ax.plot(x_line, y_line, 'g', label='y=wx+b')"
      ],
      "execution_count": null,
      "outputs": [
        {
          "output_type": "execute_result",
          "data": {
            "text/plain": [
              "[<matplotlib.lines.Line2D at 0x7fed3d3d18d0>]"
            ]
          },
          "metadata": {},
          "execution_count": 12
        },
        {
          "output_type": "display_data",
          "data": {
            "image/png": "[encoded data removed]",
            "text/plain": [
              "<Figure size 432x288 with 1 Axes>"
            ]
          },
          "metadata": {
            "needs_background": "light"
          }
        }
      ]
    },
    {
      "cell_type": "code",
      "metadata": {
        "id": "0PGnvfjT2XQt",
        "outputId": "cb12ef48-6590-4c41-a0eb-0239fc715ccb",
        "colab": {
          "base_uri": "https://localhost:8080/",
          "height": 636
        }
      },
      "source": [
        "# Project the data onto the 2 primary linear discriminants\n",
        "lda = LDA(2)\n",
        "lda.fit(X, y)\n",
        "X_projected = lda.transform(X)\n",
        "\n",
        "print(\"Shape of X:\", X.shape)\n",
        "print(\"Shape of transformed X:\", X_projected.shape)\n",
        "print(f\"X_projected: {X_projected}\")\n",
        "x1, x2 = X_projected[:, 0], X_projected[:, 1]\n",
        "\n",
        "plt.scatter(\n",
        "    x1, x2, c=y, edgecolor=\"none\", alpha=0.8, cmap=plt.cm.get_cmap(\"viridis\", 3)\n",
        ")\n",
        "\n",
        "plt.xlabel(\"Linear Discriminant 1\")\n",
        "plt.ylabel(\"Linear Discriminant 2\")\n",
        "plt.colorbar()\n",
        "plt.show()"
      ],
      "execution_count": null,
      "outputs": [
        {
          "output_type": "stream",
          "name": "stdout",
          "text": [
            "mean_overall: [8.    2.875]\n",
            "SW: [[ 6.   -3.5 ]\n",
            " [-3.5  13.75]]\n",
            "SB: [[ 2.     5.5  ]\n",
            " [ 5.5   15.125]]\n",
            "SW^-1 * SB: [[0.66548043 1.83007117]\n",
            " [0.56939502 1.5658363 ]]\n",
            "eigenvalues: [2.22044605e-16 2.23131673e+00], eigenvectors: [[-0.93979342 -0.75982994]\n",
            " [ 0.34174306 -0.65012188]]\n",
            "sorted eigenvalues: [2.23131673e+00 2.22044605e-16] sorted eigenvectors: [[-0.75982994 -0.65012188]\n",
            " [-0.93979342  0.34174306]]\n",
            "Shape of X: (8, 2)\n",
            "Shape of transformed X: (8, 2)\n",
            "X_projected: [[ -5.20910154  -5.29701748]\n",
            " [ -7.26917524  -5.55332478]\n",
            " [ -7.37888331  -6.83486126]\n",
            " [ -6.8384695   -8.45814081]\n",
            " [ -8.67912707  -6.15137514]\n",
            " [ -9.97937082  -5.46788901]\n",
            " [ -8.13871325  -7.77465469]\n",
            " [-10.08907889  -6.7494255 ]]\n"
          ]
        },
        {
          "output_type": "display_data",
          "data": {
            "image/png": "[encoded data removed]",
            "text/plain": [
              "<Figure size 432x288 with 2 Axes>"
            ]
          },
          "metadata": {
            "needs_background": "light"
          }
        }
      ]
    },
    {
      "cell_type": "code",
      "metadata": {
        "id": "av15VUkdAYgH",
        "outputId": "5899a8d4-05d0-4f48-a843-ac9c73e635d2",
        "colab": {
          "base_uri": "https://localhost:8080/"
        }
      },
      "source": [
        "X.mean()"
      ],
      "execution_count": null,
      "outputs": [
        {
          "output_type": "execute_result",
          "data": {
            "text/plain": [
              "5.4375"
            ]
          },
          "metadata": {},
          "execution_count": 22
        }
      ]
    },
    {
      "cell_type": "code",
      "metadata": {
        "id": "4iGABlc27MTl",
        "outputId": "fe3f2da9-c396-4453-cd88-c45206f37d76",
        "colab": {
          "base_uri": "https://localhost:8080/"
        }
      },
      "source": [
        "X"
      ],
      "execution_count": null,
      "outputs": [
        {
          "output_type": "execute_result",
          "data": {
            "text/plain": [
              "array([[6., 1.],\n",
              "       [7., 3.],\n",
              "       [8., 2.],\n",
              "       [9., 0.],\n",
              "       [8., 4.],\n",
              "       [8., 6.],\n",
              "       [9., 2.],\n",
              "       [9., 5.]])"
            ]
          },
          "metadata": {},
          "execution_count": 21
        }
      ]
    },
    {
      "cell_type": "code",
      "metadata": {
        "id": "6xqYo6Za7H0O",
        "outputId": "aaa4ee6f-7f36-4ba0-83bb-13488126fe4d",
        "colab": {
          "base_uri": "https://localhost:8080/"
        }
      },
      "source": [
        "X_projected[:, 0]"
      ],
      "execution_count": null,
      "outputs": [
        {
          "output_type": "execute_result",
          "data": {
            "text/plain": [
              "array([ -5.20910154,  -7.26917524,  -7.37888331,  -6.8384695 ,\n",
              "        -8.67912707,  -9.97937082,  -8.13871325, -10.08907889])"
            ]
          },
          "metadata": {},
          "execution_count": 20
        }
      ]
    },
    {
      "cell_type": "markdown",
      "metadata": {
        "id": "nEmY_I154dWH"
      },
      "source": [
        "## Example: iris dataset from sklearn"
      ]
    },
    {
      "cell_type": "code",
      "metadata": {
        "id": "7VDnu7nMUJzF"
      },
      "source": [
        "# Imports\n",
        "import matplotlib.pyplot as plt\n",
        "from sklearn import datasets\n",
        "\n",
        "data = datasets.load_iris()\n",
        "X, y = data.data, data.target"
      ],
      "execution_count": null,
      "outputs": []
    },
    {
      "cell_type": "markdown",
      "metadata": {
        "id": "fdfEiAVl068u"
      },
      "source": [
        "### 1. From Scratch"
      ]
    },
    {
      "cell_type": "code",
      "metadata": {
        "id": "J6zwXH2a0vUE",
        "outputId": "d1b22ecc-3bc0-437b-e73d-0b1ac9b6389b",
        "colab": {
          "base_uri": "https://localhost:8080/",
          "height": 317
        }
      },
      "source": [
        "\n",
        "# Project the data onto the 2 primary linear discriminants\n",
        "lda = LDA(2)\n",
        "lda.fit(X, y)\n",
        "X_projected = lda.transform(X)\n",
        "\n",
        "print(\"Shape of X:\", X.shape)\n",
        "print(\"Shape of transformed X:\", X_projected.shape)\n",
        "\n",
        "x1, x2 = X_projected[:, 0], X_projected[:, 1]\n",
        "\n",
        "plt.scatter(\n",
        "    x1, x2, c=y, edgecolor=\"none\", alpha=0.8, cmap=plt.cm.get_cmap(\"viridis\", 3)\n",
        ")\n",
        "\n",
        "plt.xlabel(\"Linear Discriminant 1\")\n",
        "plt.ylabel(\"Linear Discriminant 2\")\n",
        "plt.colorbar()\n",
        "plt.show()"
      ],
      "execution_count": null,
      "outputs": [
        {
          "output_type": "stream",
          "name": "stdout",
          "text": [
            "Shape of X: (150, 4)\n",
            "Shape of transformed X: (150, 2)\n"
          ]
        },
        {
          "output_type": "display_data",
          "data": {
            "image/png": "[encoded data removed]",
            "text/plain": [
              "<Figure size 432x288 with 2 Axes>"
            ]
          },
          "metadata": {
            "needs_background": "light"
          }
        }
      ]
    },
    {
      "cell_type": "markdown",
      "metadata": {
        "id": "lAgZUTWv0uqM"
      },
      "source": [
        "### 2. Using sklearn's LDA"
      ]
    },
    {
      "cell_type": "code",
      "metadata": {
        "id": "r-z6kd8gTb69",
        "colab": {
          "base_uri": "https://localhost:8080/",
          "height": 283
        },
        "outputId": "be7d5423-009d-47ba-bdb8-ee4bf67c3f38"
      },
      "source": [
        "import numpy as np\n",
        "import matplotlib.pyplot as plt\n",
        "\n",
        "from mpl_toolkits.mplot3d import Axes3D\n",
        "\n",
        "from sklearn.discriminant_analysis import LinearDiscriminantAnalysis\n",
        "from sklearn import datasets\n",
        "\n",
        "\n",
        "iris = datasets.load_iris()\n",
        "X = iris.data\n",
        "y = iris.target\n",
        "\n",
        "lda = LinearDiscriminantAnalysis(n_components=2)\n",
        "lda.fit(X, y)\n",
        "X_reduced = lda.transform(X)\n",
        "\n",
        "plt.scatter(X_reduced[:, 0], X_reduced[:, 1], c=y,\n",
        "            edgecolor=\"none\", alpha=0.8, cmap=plt.cm.get_cmap(\"viridis\", 3))\n",
        "\n",
        "plt.xlabel(\"Linear Discriminant 1\")\n",
        "plt.ylabel(\"Linear Discriminant 2\")\n",
        "plt.colorbar()\n",
        "plt.show()"
      ],
      "execution_count": null,
      "outputs": [
        {
          "output_type": "display_data",
          "data": {
            "image/png": "[encoded data removed]",
            "text/plain": [
              "<Figure size 432x288 with 2 Axes>"
            ]
          },
          "metadata": {
            "needs_background": "light"
          }
        }
      ]
    },
    {
      "cell_type": "code",
      "metadata": {
        "id": "UFVE9L_w4Gix"
      },
      "source": [
        ""
      ],
      "execution_count": null,
      "outputs": []
    }
  ]
}